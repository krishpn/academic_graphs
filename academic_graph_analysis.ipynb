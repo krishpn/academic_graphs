{
 "cells": [
  {
   "cell_type": "code",
   "execution_count": 1,
   "metadata": {},
   "outputs": [],
   "source": [
    "import os, re, copy, json, pprint, argparse, warnings, xmltojson, shutil\n",
    "import pandas as pd\n",
    "from pathlib import Path\n",
    "import bibtexparser\n",
    "warnings.filterwarnings('ignore')"
   ]
  },
  {
   "cell_type": "code",
   "execution_count": null,
   "metadata": {},
   "outputs": [],
   "source": [
    "with open('../financialanomalies/references.bib') as bibtex_file:\n",
    "    bib_database = bibtexparser.load(bibtex_file)\n",
    "\n",
    "for item in bib_database.entries:\n",
    "    print(item.get('title'))\n"
   ]
  },
  {
   "cell_type": "code",
   "execution_count": null,
   "metadata": {},
   "outputs": [],
   "source": [
    "with open(\"financial_anomalies_cited_network_raw\", \"r\") as fp:\n",
    "    academic_networks = json.load(fp)\n",
    "counter = 0\n",
    "for item in academic_networks:\n",
    "    if not isinstance(item.get('main_title'), type(None)) | isinstance(item.get('cited_titles'), type(None)):\n",
    "        counter +=  1\n",
    "        print(counter, item.get('main_title'),item.get('main_authors'))\n",
    "        #, len(item.get('cited_titles')))"
   ]
  },
  {
   "cell_type": "code",
   "execution_count": null,
   "metadata": {},
   "outputs": [],
   "source": [
    "!clear\n",
    "!git add .\n",
    "!git status\n",
    "!git commit -m \"citations graph\"\n",
    "!git push\n",
    "!clear \n"
   ]
  }
 ],
 "metadata": {
  "kernelspec": {
   "display_name": "base",
   "language": "python",
   "name": "python3"
  },
  "language_info": {
   "codemirror_mode": {
    "name": "ipython",
    "version": 3
   },
   "file_extension": ".py",
   "mimetype": "text/x-python",
   "name": "python",
   "nbconvert_exporter": "python",
   "pygments_lexer": "ipython3",
   "version": "3.8.13"
  }
 },
 "nbformat": 4,
 "nbformat_minor": 2
}
