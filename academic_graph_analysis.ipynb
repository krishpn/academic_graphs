{
 "cells": [
  {
   "cell_type": "code",
   "execution_count": 6,
   "metadata": {},
   "outputs": [],
   "source": [
    "import os, re, copy, json, pprint, argparse, warnings, xmltojson, shutil\n",
    "import pandas as pd\n",
    "from pathlib import Path\n",
    "import bibtexparser\n",
    "warnings.filterwarnings('ignore')"
   ]
  },
  {
   "cell_type": "code",
   "execution_count": null,
   "metadata": {},
   "outputs": [],
   "source": [
    "with open('../financialanomalies/references.bib') as bibtex_file:\n",
    "    bib_database = bibtexparser.load(bibtex_file)\n",
    "\n",
    "title_str='financial constraints and stock returns' \n",
    "def match_title(title_str):\n",
    "    for item in bib_database.entries:\n",
    "        title_str= re.sub('[^a-zA-Z0-9]', '', title_str)\n",
    "        title_to_be_compared= re.sub('[^a-zA-Z0-9]', '', item.get('title').lower())\n",
    "        if title_str==title_to_be_compared:\n",
    "            return item.get('title').lower(), item.get('journal').lower(), item.get('author').lower()\n"
   ]
  },
  {
   "cell_type": "code",
   "execution_count": null,
   "metadata": {},
   "outputs": [],
   "source": [
    "with open(\"financial_anomalies_cited_network_raw\", \"r\") as fp:\n",
    "    academic_networks = json.load(fp)\n",
    "counter = 0\n",
    "for item in academic_networks:\n",
    "    if not isinstance(item.get('main_title'), type(None)) | isinstance(item.get('cited_titles'), type(None)):\n",
    "        counter +=  1\n",
    "        print(counter, match_title(item.get('main_title').lower()) )\n",
    "        #, len(item.get('cited_titles')))"
   ]
  },
  {
   "cell_type": "code",
   "execution_count": null,
   "metadata": {},
   "outputs": [],
   "source": [
    "!clear\n",
    "!git add .\n",
    "!git status\n",
    "!git commit -m \"citations graph\"\n",
    "!git push\n",
    "!clear \n"
   ]
  }
 ],
 "metadata": {
  "kernelspec": {
   "display_name": "base",
   "language": "python",
   "name": "python3"
  },
  "language_info": {
   "codemirror_mode": {
    "name": "ipython",
    "version": 3
   },
   "file_extension": ".py",
   "mimetype": "text/x-python",
   "name": "python",
   "nbconvert_exporter": "python",
   "pygments_lexer": "ipython3",
   "version": "3.8.13"
  }
 },
 "nbformat": 4,
 "nbformat_minor": 2
}
