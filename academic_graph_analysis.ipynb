{
 "cells": [
  {
   "cell_type": "code",
   "execution_count": 1,
   "metadata": {},
   "outputs": [],
   "source": [
    "import os, re, copy, json, pprint, argparse, warnings, xmltojson, shutil\n",
    "import pandas as pd\n",
    "from pathlib import Path\n",
    "import bibtexparser\n",
    "from collections import Counter\n",
    "warnings.filterwarnings('ignore')"
   ]
  },
  {
   "cell_type": "markdown",
   "metadata": {},
   "source": [
    "`PURPOSE`: authors populated based on the citation counts by financial anomalies related literature. \n",
    "\n",
    "Steps:\n",
    "1. Get the titles from `reference.bib`\n",
    "2. Match the title to the refrence file to get metadata \n",
    "3. count the number of times the title is cited by financial anomalies related literature collected in file `financial_anomalies_cited_network_raw`"
   ]
  },
  {
   "cell_type": "code",
   "execution_count": 2,
   "metadata": {},
   "outputs": [],
   "source": [
    "with open('../financialanomalies/references.bib') as bibtex_file:\n",
    "    bib_database = bibtexparser.load(bibtex_file)\n",
    "\n",
    "def match_title(title_str):\n",
    "    for item in bib_database.entries:\n",
    "        title_str= re.sub('[^a-zA-Z0-9]', ' ', title_str)\n",
    "        title_to_be_compared= re.sub('[^a-zA-Z0-9]', ' ', item.get('title').lower())\n",
    "\n",
    "        if title_str==title_to_be_compared:\n",
    "            return item.get('title').lower(), item.get('journal').lower(), item.get('author').lower()\n",
    "        \n",
    "with open(\"financial_anomalies_cited_network_raw\", \"r\") as fp:\n",
    "    academic_networks = json.load(fp)"
   ]
  },
  {
   "cell_type": "code",
   "execution_count": 3,
   "metadata": {},
   "outputs": [],
   "source": [
    "counter = 0\n",
    "all_titles=[]\n",
    "for item in academic_networks:\n",
    "    if not isinstance(item.get('main_title'), type(None)) | isinstance(item.get('cited_titles'), type(None)):\n",
    "        all_titles.append([re.sub('[^a-zA-Z0-9]', ' ', sitem[0].lower().strip())  \n",
    "                           for sitem in item.get('cited_titles') if not isinstance(sitem[0], type(None))])\n",
    "        \n",
    "all_titles = sorted([(v,k) for k,v in dict(Counter([subitem for item in all_titles for subitem in item ])).items()], reverse=True)\n",
    "\n",
    "dfs=[]\n",
    "for sitem in all_titles:\n",
    "    try: \n",
    "        meta_data={}\n",
    "        meta_data['title']=str(sitem[1])\n",
    "        meta_data['authors']=match_title(sitem[1])[2]\n",
    "        meta_data['citation_count']=sitem[0]\n",
    "        dfs.append(meta_data)\n",
    "    except Exception:\n",
    "        pass\n",
    "\n",
    "df = pd.DataFrame(dfs)\n",
    "df.to_csv('citations_count_titles.csv')\n"
   ]
  },
  {
   "cell_type": "code",
   "execution_count": 4,
   "metadata": {},
   "outputs": [],
   "source": [
    "df=pd.read_csv('academic_citation_networks.csv',error_bad_lines=False)\n",
    "from ast import literal_eval\n",
    "import numpy as np\n",
    "def parse_dicct(strr):\n",
    "    if len(strr) >=30:\n",
    "        try: \n",
    "            return  dict(literal_eval(json.loads(json.dumps(str(strr).replace(\"'\", '\"')) )))\n",
    "        except Exception:\n",
    "            pass\n",
    "\n",
    "df['cited_by']= df['cited_by'].apply(lambda x : parse_dicct(x))\n",
    "\n",
    "\n",
    "cited_by={}\n",
    "for item in df['cited_by'].values.tolist():\n",
    "   if not isinstance(item, type(None)):\n",
    "       cited_by[item.get('article_title')] = item.get('citations_count')\n",
    "\n",
    "\n",
    "df = pd.DataFrame([item for item in df['cited_by'].values.tolist() if not isinstance(item, type(None))])\n",
    "df=df[['citations_count', 'article_title', 'auhtors']]\n",
    "all_google_scholar_citations= [(item[0], len(list(item[1])), cited_by[item[0]], list(set([subitem for item in list(df['auhtors'].iloc[list(item[1])].values) for subitem in item])) )\n",
    "        for item in dict(df.groupby('article_title').groups).items()]\n",
    "df= pd.DataFrame(all_google_scholar_citations, columns=[\"title\", \"search_hit_count\",\"google_scholar_citation_count\", \"authors\"])\n",
    "df['google_scholar_citation_count']= df['google_scholar_citation_count'].astype('int')\n",
    "df=df.sort_values('google_scholar_citation_count', ascending=False)\n",
    "df.to_csv('google_scholar_citation_count.csv')"
   ]
  },
  {
   "cell_type": "code",
   "execution_count": null,
   "metadata": {},
   "outputs": [],
   "source": []
  },
  {
   "cell_type": "code",
   "execution_count": 5,
   "metadata": {},
   "outputs": [
    {
     "name": "stdout",
     "output_type": "stream",
     "text": [
      "\u001b[H\u001b[2JOn branch main\n",
      "Your branch is up to date with 'origin/main'.\n",
      "\n",
      "Changes to be committed:\n",
      "  (use \"git restore --staged <file>...\" to unstage)\n",
      "\t\u001b[32mmodified:   academic_graph_analysis.ipynb\u001b[m\n",
      "\t\u001b[32mmodified:   google_scholar_citation_count.csv\u001b[m\n",
      "\n",
      "Changes not staged for commit:\n",
      "  (use \"git add <file>...\" to update what will be committed)\n",
      "  (use \"git restore <file>...\" to discard changes in working directory)\n",
      "\t\u001b[31mmodified:   academic_graph_analysis.ipynb\u001b[m\n",
      "\n",
      "[main 51d7138] added  frequency of cited titles search count hit and google scholar citation report\n",
      " 2 files changed, 854 insertions(+), 878 deletions(-)\n",
      " rewrite google_scholar_citation_count.csv (98%)\n",
      "Enumerating objects: 7, done.\n",
      "Counting objects: 100% (7/7), done.\n",
      "Delta compression using up to 16 threads\n",
      "Compressing objects: 100% (4/4), done.\n",
      "Writing objects: 100% (4/4), 10.47 KiB | 3.49 MiB/s, done.\n",
      "Total 4 (delta 3), reused 0 (delta 0), pack-reused 0\n",
      "remote: Resolving deltas: 100% (3/3), completed with 3 local objects.\u001b[K\n",
      "To https://github.com/krishpn/academic_graphs.git\n",
      "   a5b8255..51d7138  main -> main\n",
      "\u001b[H\u001b[2J"
     ]
    }
   ],
   "source": [
    "!clear\n",
    "!git add .\n",
    "!git status\n",
    "!git commit -m \"added  frequency of cited titles search count hit and google scholar citation report\"\n",
    "!git push\n",
    "!clear \n"
   ]
  }
 ],
 "metadata": {
  "kernelspec": {
   "display_name": "base",
   "language": "python",
   "name": "python3"
  },
  "language_info": {
   "codemirror_mode": {
    "name": "ipython",
    "version": 3
   },
   "file_extension": ".py",
   "mimetype": "text/x-python",
   "name": "python",
   "nbconvert_exporter": "python",
   "pygments_lexer": "ipython3",
   "version": "3.8.13"
  }
 },
 "nbformat": 4,
 "nbformat_minor": 2
}
