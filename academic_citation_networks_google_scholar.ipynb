{
 "cells": [
  {
   "cell_type": "code",
   "execution_count": 3,
   "metadata": {},
   "outputs": [],
   "source": [
    "import os, re, copy\n",
    "from pathlib import Path\n",
    "import pandas as pd\n",
    "import requests \n",
    "from stop_words import get_stop_words\n",
    "import warnings \n",
    "from pathlib import Path\n",
    "from bs4 import BeautifulSoup \n",
    "import json\n",
    "warnings.filterwarnings('ignore')\n",
    "pd.set_option('display.max_colwidth', None)"
   ]
  },
  {
   "cell_type": "code",
   "execution_count": 26,
   "metadata": {},
   "outputs": [],
   "source": [
    "url= f'https://scholar.google.com/scholar?cites=6625945508587280573&as_sdt=5,47&sciodt=0,47&hl=en' # user manual input\n",
    "citation_key =f'gupta1975investors' # user manual input\n",
    "\n",
    "headers = {'user-agent':'Mozilla/5.0 (Windows NT 10.0; Win64; x64) AppleWebKit/537.36 (KHTML, like Gecko) Chrome/91.0.4472.114 Safari/537.36'}\n",
    "page_contents=requests.get(url,headers=headers)\n",
    "soup=BeautifulSoup(page_contents.text,'html.parser')\n",
    "\n",
    "citation_dict={}\n",
    "def cited_by_gscholar(dsoup):\n",
    "    cited_by_link_list=[]\n",
    "    for item in dsoup.find_all('div',{\"class\" : \"gs_ri\"}):\n",
    "        cited_by_link_dict={}\n",
    "        authors=[]\n",
    "        for el in item.extract().find_all('a'):\n",
    "            if 'https' in el.get('href').split(':'):\n",
    "                if len(set(['View as HTML', 'Cached']) & set([str(el.text)])) ==0:\n",
    "                    cited_by_link_dict['article_title']=el.text\n",
    "                    cited_by_link_dict['article_link']=el.get('href')\n",
    "            if '/citations?user' in el.get('href'):\n",
    "                authors.append(el.text)\n",
    "            elhref = el.get('href')\n",
    "            if '/scholar?cites' in elhref.split('='):\n",
    "                cited_by_link_dict['cited_by']=elhref\n",
    "            if 'by' in el.text.split():\n",
    "                #print(el.text.split())\n",
    "                citation_cnt=re.findall(r'\\d+', el.text)[0]\n",
    "                cited_by_link_dict['citations_count']=citation_cnt\n",
    "                cited_by_link_list.append(cited_by_link_dict)\n",
    "        cited_by_link_dict['auhtors']=authors\n",
    "    return cited_by_link_list\n",
    "\n",
    "dsoup = copy.deepcopy(soup)\n",
    "dsoup= cited_by_gscholar(dsoup)\n",
    "citation_dict['citation_key']=citation_key\n",
    "citation_dict['google_scholar_link']=url\n",
    "citation_dict['cited_by']=dsoup\n",
    "df = pd.DataFrame.from_dict(citation_dict)\n",
    "df.to_csv('academic_citation_network.csv', mode='a')"
   ]
  },
  {
   "cell_type": "code",
   "execution_count": 23,
   "metadata": {},
   "outputs": [],
   "source": [
    "\n",
    "\n"
   ]
  }
 ],
 "metadata": {
  "kernelspec": {
   "display_name": "base",
   "language": "python",
   "name": "python3"
  },
  "language_info": {
   "codemirror_mode": {
    "name": "ipython",
    "version": 3
   },
   "file_extension": ".py",
   "mimetype": "text/x-python",
   "name": "python",
   "nbconvert_exporter": "python",
   "pygments_lexer": "ipython3",
   "version": "3.8.13"
  }
 },
 "nbformat": 4,
 "nbformat_minor": 2
}
