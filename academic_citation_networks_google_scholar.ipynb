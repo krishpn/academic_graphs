{
 "cells": [
  {
   "cell_type": "code",
   "execution_count": 3,
   "metadata": {},
   "outputs": [],
   "source": [
    "import os, re, copy\n",
    "from pathlib import Path\n",
    "import pandas as pd\n",
    "import requests \n",
    "from stop_words import get_stop_words\n",
    "import warnings \n",
    "from pathlib import Path\n",
    "from bs4 import BeautifulSoup \n",
    "warnings.filterwarnings('ignore')\n",
    "pd.set_option('display.max_colwidth', None)"
   ]
  },
  {
   "cell_type": "code",
   "execution_count": 9,
   "metadata": {},
   "outputs": [],
   "source": [
    "headers = {'user-agent':'Mozilla/5.0 (Windows NT 10.0; Win64; x64) AppleWebKit/537.36 (KHTML, like Gecko) Chrome/91.0.4472.114 Safari/537.36'}\n",
    "url= f'https://scholar.google.com/scholar?cites=15375928409779927202&as_sdt=5,47&sciodt=0,47&hl=en'\n",
    "page_contents=requests.get(url,headers=headers)\n",
    "soup=BeautifulSoup(page_contents.text,'html.parser')\n",
    "\n",
    "def cited_by_gscholar(dsoup):\n",
    "    cited_by_link_list=[]\n",
    "    for item in dsoup.find_all('div',{\"class\" : \"gs_ri\"}):\n",
    "        cited_by_link_dict={}\n",
    "        authors=[]\n",
    "        for el in item.extract().find_all('a'):\n",
    "            if 'https' in el.get('href').split(':'):\n",
    "                if len(set(['View as HTML', 'Cached']) & set([str(el.text)])) ==0:\n",
    "                    cited_by_link_dict['article_title']=el.text\n",
    "                    cited_by_link_dict['article_link']=el.get('href')\n",
    "            if '/citations?user' in el.get('href'):\n",
    "                authors.append(el.text)\n",
    "            elhref = el.get('href')\n",
    "            if '/scholar?cites' in elhref.split('='):\n",
    "                cited_by_link_dict['cited_by']=elhref\n",
    "            if 'by' in el.text.split():\n",
    "                #print(el.text.split())\n",
    "                citation_cnt=re.findall(r'\\d+', el.text)[0]\n",
    "                cited_by_link_dict['citations_count']=citation_cnt\n",
    "                cited_by_link_list.append(cited_by_link_dict)\n",
    "        cited_by_link_dict['auhtors']=authors\n",
    "    return cited_by_link_list\n",
    "\n",
    "dsoup = copy.deepcopy(soup)\n",
    "\n"
   ]
  },
  {
   "cell_type": "code",
   "execution_count": 10,
   "metadata": {},
   "outputs": [
    {
     "data": {
      "text/plain": [
       "[{'article_title': 'A review of tax research',\n",
       "  'article_link': 'https://www.sciencedirect.com/science/article/pii/S0165410110000340',\n",
       "  'cited_by': '/scholar?cites=11742330445472357391&as_sdt=5,47&sciodt=0,47&hl=en',\n",
       "  'citations_count': '5131',\n",
       "  'auhtors': ['M Hanlon', 'S Heitzman']},\n",
       " {'article_title': 'Payout policy',\n",
       "  'article_link': 'https://www.sciencedirect.com/science/article/pii/S1574010203010112',\n",
       "  'cited_by': '/scholar?cites=3884083202577894822&as_sdt=5,47&sciodt=0,47&hl=en',\n",
       "  'citations_count': '1505',\n",
       "  'auhtors': ['F Allen', 'R Michaely']},\n",
       " {'article_title': 'Replicating anomalies',\n",
       "  'article_link': 'https://academic.oup.com/rfs/article-pdf/doi/10.1093/rfs/hhy131/33710468/hhy131.pdf',\n",
       "  'cited_by': '/scholar?cites=3268850943037854099&as_sdt=5,47&sciodt=0,47&hl=en',\n",
       "  'citations_count': '1311',\n",
       "  'auhtors': ['K Hou', 'C Xue', 'L Zhang']},\n",
       " {'article_title': 'Digesting anomalies: An investment approach',\n",
       "  'article_link': 'https://academic.oup.com/rfs/article-abstract/28/3/650/1574802',\n",
       "  'cited_by': '/scholar?cites=2099462041290118497&as_sdt=5,47&sciodt=0,47&hl=en',\n",
       "  'citations_count': '2756',\n",
       "  'auhtors': ['K Hou', 'C Xue', 'L Zhang']},\n",
       " {'article_title': 'The relationship between return and market value of common stocks',\n",
       "  'article_link': 'https://www.sciencedirect.com/science/article/pii/0304405X81900180',\n",
       "  'cited_by': '/scholar?cites=15231268685868232324&as_sdt=5,47&sciodt=0,47&hl=en',\n",
       "  'citations_count': '10966',\n",
       "  'auhtors': []},\n",
       " {'article_title': 'The econometrics of financial markets',\n",
       "  'article_link': 'https://www.cambridge.org/core/journals/macroeconomic-dynamics/article/econometrics-of-financial-markets/104D10A553C88B62FEFD8FA9916DA1AC',\n",
       "  'cited_by': '/scholar?cites=85857083382649245&as_sdt=5,47&sciodt=0,47&hl=en',\n",
       "  'citations_count': '13727',\n",
       "  'auhtors': ['JY Campbell']},\n",
       " {'article_title': 'Investor sentiment and the cross‐section of stock returns',\n",
       "  'article_link': 'https://onlinelibrary.wiley.com/doi/abs/10.1111/j.1540-6261.2006.00885.x',\n",
       "  'cited_by': '/scholar?cites=18061780190430019460&as_sdt=5,47&sciodt=0,47&hl=en',\n",
       "  'citations_count': '7748',\n",
       "  'auhtors': ['M Baker', 'J Wurgler']},\n",
       " {'article_title': '… and the cross-section of expected returns',\n",
       "  'article_link': 'https://academic.oup.com/rfs/article-abstract/29/1/5/1843824',\n",
       "  'cited_by': '/scholar?cites=16037178202935660221&as_sdt=5,47&sciodt=0,47&hl=en',\n",
       "  'citations_count': '1628',\n",
       "  'auhtors': ['CR Harvey', 'Y Liu', 'H Zhu']},\n",
       " {'article_title': 'Persuasive evidence of market inefficiency',\n",
       "  'article_link': 'https://www.degruyter.com/document/doi/10.1515/9781400829408-007/pdf?licenseType=restricted',\n",
       "  'cited_by': '/scholar?cites=18398490337842348607&as_sdt=5,47&sciodt=0,47&hl=en',\n",
       "  'citations_count': '3513',\n",
       "  'auhtors': []},\n",
       " {'article_title': 'Deep learning in asset pricing',\n",
       "  'article_link': 'https://pubsonline.informs.org/doi/abs/10.1287/mnsc.2023.4695',\n",
       "  'cited_by': '/scholar?cites=5997681523990728519&as_sdt=5,47&sciodt=0,47&hl=en',\n",
       "  'citations_count': '507',\n",
       "  'auhtors': ['L Chen', 'M Pelger', 'J Zhu']}]"
      ]
     },
     "execution_count": 10,
     "metadata": {},
     "output_type": "execute_result"
    }
   ],
   "source": [
    "cited_by_gscholar(dsoup)"
   ]
  }
 ],
 "metadata": {
  "kernelspec": {
   "display_name": "base",
   "language": "python",
   "name": "python3"
  },
  "language_info": {
   "codemirror_mode": {
    "name": "ipython",
    "version": 3
   },
   "file_extension": ".py",
   "mimetype": "text/x-python",
   "name": "python",
   "nbconvert_exporter": "python",
   "pygments_lexer": "ipython3",
   "version": "3.8.13"
  }
 },
 "nbformat": 4,
 "nbformat_minor": 2
}
