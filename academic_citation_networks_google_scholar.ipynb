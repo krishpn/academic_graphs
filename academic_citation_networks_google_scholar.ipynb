{
 "cells": [
  {
   "cell_type": "code",
   "execution_count": 3,
   "metadata": {},
   "outputs": [],
   "source": [
    "import os, re, copy\n",
    "from pathlib import Path\n",
    "import pandas as pd\n",
    "import requests \n",
    "from stop_words import get_stop_words\n",
    "import warnings \n",
    "from pathlib import Path\n",
    "from bs4 import BeautifulSoup \n",
    "import json\n",
    "warnings.filterwarnings('ignore')\n",
    "pd.set_option('display.max_colwidth', None)"
   ]
  },
  {
   "cell_type": "code",
   "execution_count": 31,
   "metadata": {},
   "outputs": [],
   "source": [
    "url= f'https://scholar.google.com/scholar?cites=14392702990254182637&as_sdt=5,47&sciodt=0,47&hl=en' # user manual input\n",
    "citation_key =f'de1985does' # user manual input\n",
    "\n",
    "headers = {'user-agent':'Mozilla/5.0 (Windows NT 10.0; Win64; x64) AppleWebKit/537.36 (KHTML, like Gecko) Chrome/91.0.4472.114 Safari/537.36'}\n",
    "page_contents=requests.get(url,headers=headers)\n",
    "soup=BeautifulSoup(page_contents.text,'html.parser')\n",
    "\n",
    "citation_dict={}\n",
    "def cited_by_gscholar(dsoup):\n",
    "    cited_by_link_list=[]\n",
    "    for item in dsoup.find_all('div',{\"class\" : \"gs_ri\"}):\n",
    "        cited_by_link_dict={}\n",
    "        authors=[]\n",
    "        for el in item.extract().find_all('a'):\n",
    "            if 'https' in el.get('href').split(':'):\n",
    "                if len(set(['View as HTML', 'Cached']) & set([str(el.text)])) ==0:\n",
    "                    cited_by_link_dict['article_title']=el.text\n",
    "                    cited_by_link_dict['article_link']=el.get('href')\n",
    "            if '/citations?user' in el.get('href'):\n",
    "                authors.append(el.text)\n",
    "            elhref = el.get('href')\n",
    "            if '/scholar?cites' in elhref.split('='):\n",
    "                cited_by_link_dict['cited_by']=elhref\n",
    "            if 'by' in el.text.split():\n",
    "                #print(el.text.split())\n",
    "                citation_cnt=re.findall(r'\\d+', el.text)[0]\n",
    "                cited_by_link_dict['citations_count']=citation_cnt\n",
    "                cited_by_link_list.append(cited_by_link_dict)\n",
    "        cited_by_link_dict['auhtors']=authors\n",
    "    return cited_by_link_list\n",
    "\n",
    "dsoup = copy.deepcopy(soup)\n",
    "dsoup= cited_by_gscholar(dsoup)\n",
    "citation_dict['citation_key']=citation_key\n",
    "citation_dict['google_scholar_link']=url\n",
    "citation_dict['cited_by']=dsoup\n",
    "df = pd.DataFrame.from_dict(citation_dict)\n",
    "df.to_csv('academic_citation_network.csv', mode='a')\n",
    "citation_dict"
   ]
  },
  {
   "cell_type": "code",
   "execution_count": 32,
   "metadata": {},
   "outputs": [
    {
     "data": {
      "text/plain": [
       "{'citation_key': 'de1985does',\n",
       " 'google_scholar_link': 'https://scholar.google.com/scholar?cites=14392702990254182637&as_sdt=5,47&sciodt=0,47&hl=en',\n",
       " 'cited_by': [{'article_title': 'Machine learning techniques and data for stock market forecasting: A literature review',\n",
       "   'article_link': 'https://www.sciencedirect.com/science/article/pii/S0957417422001452',\n",
       "   'cited_by': '/scholar?cites=14110825883629850631&as_sdt=5,47&sciodt=0,47&hl=en',\n",
       "   'citations_count': '299',\n",
       "   'auhtors': ['MM Kumbure', 'C Lohrmann', 'P Luukka']},\n",
       "  {'article_title': 'The noise trader approach to finance',\n",
       "   'article_link': 'https://www.aeaweb.org/articles?id=10.1257/jep.4.2.19',\n",
       "   'cited_by': '/scholar?cites=15147237888813115420&as_sdt=5,47&sciodt=0,47&hl=en',\n",
       "   'citations_count': '2669',\n",
       "   'auhtors': ['A Shleifer']},\n",
       "  {'article_title': 'Risks and returns of cryptocurrency',\n",
       "   'article_link': 'https://academic.oup.com/rfs/article-abstract/34/6/2689/5912024',\n",
       "   'cited_by': '/scholar?cites=15325183468594041360&as_sdt=5,47&sciodt=0,47&hl=en',\n",
       "   'citations_count': '1045',\n",
       "   'auhtors': ['Y Liu', 'A Tsyvinski']},\n",
       "  {'article_title': 'Misbehaving: The making of behavioral economics',\n",
       "   'article_link': 'https://books.google.com/books?hl=en&lr=&id=xQedBAAAQBAJ&oi=fnd&pg=PT6&ots=c9BkSQpqE5&sig=2BZLpG1lsweRjLk9Pumm4E2OXtI',\n",
       "   'cited_by': '/scholar?cites=14700816198269037256&as_sdt=5,47&sciodt=0,47&hl=en',\n",
       "   'citations_count': '3213',\n",
       "   'auhtors': ['RH Thaler']},\n",
       "  {'article_title': 'Replicating anomalies',\n",
       "   'article_link': 'https://academic.oup.com/rfs/article-pdf/doi/10.1093/rfs/hhy131/33710468/hhy131.pdf',\n",
       "   'cited_by': '/scholar?cites=3268850943037854099&as_sdt=5,47&sciodt=0,47&hl=en',\n",
       "   'citations_count': '1311',\n",
       "   'auhtors': ['K Hou', 'C Xue', 'L Zhang']},\n",
       "  {'article_title': 'Digesting anomalies: An investment approach',\n",
       "   'article_link': 'https://academic.oup.com/rfs/article-abstract/28/3/650/1574802',\n",
       "   'cited_by': '/scholar?cites=2099462041290118497&as_sdt=5,47&sciodt=0,47&hl=en',\n",
       "   'citations_count': '2757',\n",
       "   'auhtors': ['K Hou', 'C Xue', 'L Zhang']},\n",
       "  {'article_title': 'Financial accounting theory',\n",
       "   'article_link': 'https://www.academia.edu/download/30966102/BADM4250HLeamanW09.pdf',\n",
       "   'cited_by': '/scholar?cites=5208924027199810719&as_sdt=5,47&sciodt=0,47&hl=en',\n",
       "   'citations_count': '8199',\n",
       "   'auhtors': [\"PC O'Brien\"]},\n",
       "  {'article_title': 'Investments',\n",
       "   'article_link': 'https://thuvienso.hoasen.edu.vn/handle/123456789/8426',\n",
       "   'cited_by': '/scholar?cites=2578664890442855107&as_sdt=5,47&sciodt=0,47&hl=en',\n",
       "   'citations_count': '8198',\n",
       "   'auhtors': ['Z Bodie', 'AJ Marcus']},\n",
       "  {'article_title': 'Returns to buying winners and selling losers: Implications for stock market efficiency',\n",
       "   'article_link': 'https://onlinelibrary.wiley.com/doi/abs/10.1111/j.1540-6261.1993.tb04702.x',\n",
       "   'cited_by': '/scholar?cites=13258657869154838134&as_sdt=5,47&sciodt=0,47&hl=en',\n",
       "   'citations_count': '16346',\n",
       "   'auhtors': ['N Jegadeesh', 'S Titman']},\n",
       "  {'article_title': 'The cross‐section of expected stock returns',\n",
       "   'article_link': 'https://onlinelibrary.wiley.com/doi/abs/10.1111/j.1540-6261.1992.tb04398.x',\n",
       "   'cited_by': '/scholar?cites=12686015465251282864&as_sdt=5,47&sciodt=0,47&hl=en',\n",
       "   'citations_count': '28156',\n",
       "   'auhtors': ['KR French']}]}"
      ]
     },
     "execution_count": 32,
     "metadata": {},
     "output_type": "execute_result"
    }
   ],
   "source": [
    "\n"
   ]
  }
 ],
 "metadata": {
  "kernelspec": {
   "display_name": "base",
   "language": "python",
   "name": "python3"
  },
  "language_info": {
   "codemirror_mode": {
    "name": "ipython",
    "version": 3
   },
   "file_extension": ".py",
   "mimetype": "text/x-python",
   "name": "python",
   "nbconvert_exporter": "python",
   "pygments_lexer": "ipython3",
   "version": "3.8.13"
  }
 },
 "nbformat": 4,
 "nbformat_minor": 2
}
