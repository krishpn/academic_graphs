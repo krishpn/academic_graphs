{
 "cells": [
  {
   "cell_type": "markdown",
   "metadata": {},
   "source": [
    "## Semantic API Example\n",
    "\n",
    "TODO: REFACTOR THE FOLLOWING CODE "
   ]
  },
  {
   "cell_type": "code",
   "execution_count": 1,
   "metadata": {},
   "outputs": [
    {
     "name": "stdout",
     "output_type": "stream",
     "text": [
      "{'paperId': '662b7d581700c72034f8213963797c501cd2ac6f', 'url': 'https://www.semanticscholar.org/paper/662b7d581700c72034f8213963797c501cd2ac6f', 'title': 'Minimisierung nicht-deterministischer Akzeptoren', 'year': 1972, 'fieldsOfStudy': ['Mathematics', 'Computer Science'], 'authorid': '2055309696', 'author': 'Michael+Brandt'}\n",
      "{'paperId': '29422420f876be5f5b354749b49e4c1d2c4ae5cf', 'url': 'https://www.semanticscholar.org/paper/29422420f876be5f5b354749b49e4c1d2c4ae5cf', 'title': 'A neurophysiologically-based mathematical model of flash visual evoked potentials', 'year': 2004, 'fieldsOfStudy': ['Psychology', 'Medicine', 'Computer Science'], 'authorid': '20596663', 'author': 'Michael+Brandt'}\n",
      "{'paperId': '5cb1fb0290f07959b8fbbcd3af457441c2879e2c', 'url': 'https://www.semanticscholar.org/paper/5cb1fb0290f07959b8fbbcd3af457441c2879e2c', 'title': 'Nonlinear Dynamical Analysis of the EEG: Proceedings of the Second Annual Conference', 'year': 1993, 'fieldsOfStudy': ['Psychology', 'Computer Science'], 'authorid': '20596663', 'author': 'Michael+Brandt'}\n",
      "{'paperId': '459a21ace3ddc6848e1ba3c9bdcf8c1137de5258', 'url': 'https://www.semanticscholar.org/paper/459a21ace3ddc6848e1ba3c9bdcf8c1137de5258', 'title': 'Psychophysiology of N200/N400: A Review and Classification Scheme', 'year': 1991, 'fieldsOfStudy': ['Computer Science'], 'authorid': '20596663', 'author': 'Michael+Brandt'}\n"
     ]
    }
   ],
   "source": [
    "import os, re, copy,json, time,requests  \n",
    "from pathlib import Path\n",
    "from pprint import pprint\n",
    "import xmltojson\n",
    "p = Path('.')\n",
    "import warnings \n",
    "warnings.filterwarnings('ignore')\n",
    "pd.set_option('display.max_colwidth', None)\n",
    "\n",
    "url = f'https://api.semanticscholar.org/graph/v1/paper/autocomplete?query=insider+trader'\n",
    "\n",
    "names= ['Michael Brandt', 'Runeet Kishore', 'Pedro Santa-Clara', 'Mohan Venkatachalam']\n",
    "for name in names:\n",
    "    name='+'.join(name.split())\n",
    "    url =f'https://api.semanticscholar.org/graph/v1/author/search?query={name}'\n",
    "    page_contents= requests.get(url)\n",
    "    author_ids=page_contents.json()['data']\n",
    "    for item in author_ids:\n",
    "        aid= item['authorId']\n",
    "        rsp = requests.get(f'https://api.semanticscholar.org/graph/v1/author/{aid}/papers',params={'fields': 'title,url,year,fieldsOfStudy', 'limit': 50})\n",
    "        rsp.raise_for_status()\n",
    "        for data in rsp.json()['data']:\n",
    "            if not isinstance(data['fieldsOfStudy'], type(None)):\n",
    "                if len(set(data['fieldsOfStudy']) & set(['Computer Science', 'Economics', 'Finance', 'Data Science', 'Artificial Intelligence'])) >=1:\n",
    "                    data['authorid']=aid\n",
    "                    data['author']=name\n",
    "                    print(data)\n",
    "\n",
    "            time.sleep(1)\n",
    "        "
   ]
  }
 ],
 "metadata": {
  "kernelspec": {
   "display_name": "base",
   "language": "python",
   "name": "python3"
  },
  "language_info": {
   "codemirror_mode": {
    "name": "ipython",
    "version": 3
   },
   "file_extension": ".py",
   "mimetype": "text/x-python",
   "name": "python",
   "nbconvert_exporter": "python",
   "pygments_lexer": "ipython3",
   "version": "3.8.13"
  }
 },
 "nbformat": 4,
 "nbformat_minor": 2
}
